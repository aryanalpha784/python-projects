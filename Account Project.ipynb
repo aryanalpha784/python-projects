{
 "cells": [
  {
   "cell_type": "code",
   "execution_count": 7,
   "id": "310941f2-61a9-44bf-9f3d-0fa838d21139",
   "metadata": {},
   "outputs": [
    {
     "name": "stdout",
     "output_type": "stream",
     "text": [
      "Rs 100 was debited\n",
      "Total Balance = 9900\n"
     ]
    }
   ],
   "source": [
    "class Account:\n",
    "    def __init__(self, bal, acc):\n",
    "        self.balance = bal\n",
    "        self.account = acc\n",
    "\n",
    "    # debit method\n",
    "    def debit(self, amount):\n",
    "        if amount > self.balance:\n",
    "            print(\"Insufficient funds! Transaction cancelled.\")\n",
    "        else:\n",
    "            self.balance -= amount\n",
    "            print(\"Rs\", amount, \"was debited\")\n",
    "            print(\"Total Balance =\", self.get_balance())\n",
    "\n",
    "    # credit method\n",
    "    def credit(self, amount):\n",
    "        self.balance += amount\n",
    "        print(\"Rs\", amount, \"was credited\")\n",
    "        print(\"Total Balance =\", self.get_balance())\n",
    "\n",
    "    # method\n",
    "    def get_balance(self):\n",
    "        return self.balance\n",
    "\n",
    "\n",
    "acc1 = Account(10000, 12345)\n",
    "acc1.debit(100)"
   ]
  }
 ],
 "metadata": {
  "kernelspec": {
   "display_name": "Python 3 (ipykernel)",
   "language": "python",
   "name": "python3"
  },
  "language_info": {
   "codemirror_mode": {
    "name": "ipython",
    "version": 3
   },
   "file_extension": ".py",
   "mimetype": "text/x-python",
   "name": "python",
   "nbconvert_exporter": "python",
   "pygments_lexer": "ipython3",
   "version": "3.11.7"
  }
 },
 "nbformat": 4,
 "nbformat_minor": 5
}
