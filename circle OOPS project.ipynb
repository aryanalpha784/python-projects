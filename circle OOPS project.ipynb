{
 "cells": [
  {
   "cell_type": "markdown",
   "id": "db7ce46a-3706-46c8-8076-c9aa9f7bc49f",
   "metadata": {},
   "source": [
    "# Define a circle class to create a circle with radius r using the constructor.Define the Area() method of the class which calculates the area of the circle.Define a perimeter() method of the class which allows you to calculate the perimeter of the circle.\n"
   ]
  },
  {
   "cell_type": "code",
   "execution_count": 4,
   "id": "a6b6bd31-e4fd-4708-8931-70f3de24a898",
   "metadata": {},
   "outputs": [
    {
     "name": "stdout",
     "output_type": "stream",
     "text": [
      "452.16\n",
      "75.36\n"
     ]
    }
   ],
   "source": [
    "class Circle:\n",
    "    def __init__(self, radius):\n",
    "        self.radius = radius\n",
    "    \n",
    "    def area(self):\n",
    "        return (3.14 * self.radius ** 2)\n",
    "    \n",
    "    def perimeter(self):\n",
    "        return (2 * 3.14 * self.radius)\n",
    "\n",
    "c1 = Circle(12)\n",
    "print(c1.area())\n",
    "print(c1.perimeter())"
   ]
  }
 ],
 "metadata": {
  "kernelspec": {
   "display_name": "Python 3 (ipykernel)",
   "language": "python",
   "name": "python3"
  },
  "language_info": {
   "codemirror_mode": {
    "name": "ipython",
    "version": 3
   },
   "file_extension": ".py",
   "mimetype": "text/x-python",
   "name": "python",
   "nbconvert_exporter": "python",
   "pygments_lexer": "ipython3",
   "version": "3.11.7"
  }
 },
 "nbformat": 4,
 "nbformat_minor": 5
}
